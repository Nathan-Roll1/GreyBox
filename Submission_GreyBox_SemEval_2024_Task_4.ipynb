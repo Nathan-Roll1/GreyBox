{
  "nbformat": 4,
  "nbformat_minor": 0,
  "metadata": {
    "colab": {
      "provenance": [],
      "include_colab_link": true
    },
    "kernelspec": {
      "name": "python3",
      "display_name": "Python 3"
    },
    "language_info": {
      "name": "python"
    }
  },
  "cells": [
    {
      "cell_type": "markdown",
      "metadata": {
        "id": "view-in-github",
        "colab_type": "text"
      },
      "source": [
        "<a href=\"https://colab.research.google.com/github/Nathan-Roll1/GreyBox/blob/main/Submission_GreyBox_SemEval_2024_Task_4.ipynb\" target=\"_parent\"><img src=\"https://colab.research.google.com/assets/colab-badge.svg\" alt=\"Open In Colab\"/></a>"
      ]
    },
    {
      "cell_type": "markdown",
      "source": [
        "# **Progressive Fine-tuning (for Multilingual Detection of Propaganda Techniques)**\n",
        "\n",
        "**By:** Nathan Roll & Calbert Graham\n",
        "\n",
        "[![GitHub Repo](https://img.shields.io/badge/GitHub-Nathan--Roll1%2FGreyBox-black?logo=github)](https://github.com/Nathan-Roll1/GreyBox)\n"
      ],
      "metadata": {
        "id": "Di_xDQ0QuvIq"
      }
    },
    {
      "cell_type": "markdown",
      "source": [
        "## **Initialization**"
      ],
      "metadata": {
        "id": "8V4BRGSkvlud"
      }
    },
    {
      "cell_type": "code",
      "source": [
        "# Installs\n",
        "!pip install --upgrade openai langchain sklearn_hierarchical_classification\n",
        "\n",
        "# Imports\n",
        "import openai\n",
        "import json\n",
        "from tqdm import tqdm\n",
        "import warnings  # For suppressing potential warnings\n",
        "from concurrent.futures import ThreadPoolExecutor"
      ],
      "metadata": {
        "id": "xibLi_hzvvJJ",
        "outputId": "0a01ad9b-6fb2-4fa5-bb17-22c195f62790",
        "colab": {
          "base_uri": "https://localhost:8080/"
        }
      },
      "execution_count": null,
      "outputs": [
        {
          "output_type": "stream",
          "name": "stdout",
          "text": [
            "Requirement already satisfied: openai in /usr/local/lib/python3.10/dist-packages (1.12.0)\n",
            "Requirement already satisfied: langchain in /usr/local/lib/python3.10/dist-packages (0.1.9)\n",
            "Requirement already satisfied: sklearn_hierarchical_classification in /usr/local/lib/python3.10/dist-packages (1.3.2)\n",
            "Requirement already satisfied: anyio<5,>=3.5.0 in /usr/local/lib/python3.10/dist-packages (from openai) (3.7.1)\n",
            "Requirement already satisfied: distro<2,>=1.7.0 in /usr/lib/python3/dist-packages (from openai) (1.7.0)\n",
            "Requirement already satisfied: httpx<1,>=0.23.0 in /usr/local/lib/python3.10/dist-packages (from openai) (0.27.0)\n",
            "Requirement already satisfied: pydantic<3,>=1.9.0 in /usr/local/lib/python3.10/dist-packages (from openai) (2.6.1)\n",
            "Requirement already satisfied: sniffio in /usr/local/lib/python3.10/dist-packages (from openai) (1.3.0)\n",
            "Requirement already satisfied: tqdm>4 in /usr/local/lib/python3.10/dist-packages (from openai) (4.66.2)\n",
            "Requirement already satisfied: typing-extensions<5,>=4.7 in /usr/local/lib/python3.10/dist-packages (from openai) (4.9.0)\n",
            "Requirement already satisfied: PyYAML>=5.3 in /usr/local/lib/python3.10/dist-packages (from langchain) (6.0.1)\n",
            "Requirement already satisfied: SQLAlchemy<3,>=1.4 in /usr/local/lib/python3.10/dist-packages (from langchain) (2.0.27)\n",
            "Requirement already satisfied: aiohttp<4.0.0,>=3.8.3 in /usr/local/lib/python3.10/dist-packages (from langchain) (3.9.3)\n",
            "Requirement already satisfied: async-timeout<5.0.0,>=4.0.0 in /usr/local/lib/python3.10/dist-packages (from langchain) (4.0.3)\n",
            "Requirement already satisfied: dataclasses-json<0.7,>=0.5.7 in /usr/local/lib/python3.10/dist-packages (from langchain) (0.6.4)\n",
            "Requirement already satisfied: jsonpatch<2.0,>=1.33 in /usr/local/lib/python3.10/dist-packages (from langchain) (1.33)\n",
            "Requirement already satisfied: langchain-community<0.1,>=0.0.21 in /usr/local/lib/python3.10/dist-packages (from langchain) (0.0.24)\n",
            "Requirement already satisfied: langchain-core<0.2,>=0.1.26 in /usr/local/lib/python3.10/dist-packages (from langchain) (0.1.26)\n",
            "Requirement already satisfied: langsmith<0.2.0,>=0.1.0 in /usr/local/lib/python3.10/dist-packages (from langchain) (0.1.8)\n",
            "Requirement already satisfied: numpy<2,>=1 in /usr/local/lib/python3.10/dist-packages (from langchain) (1.25.2)\n",
            "Requirement already satisfied: requests<3,>=2 in /usr/local/lib/python3.10/dist-packages (from langchain) (2.31.0)\n",
            "Requirement already satisfied: tenacity<9.0.0,>=8.1.0 in /usr/local/lib/python3.10/dist-packages (from langchain) (8.2.3)\n",
            "Requirement already satisfied: networkx>=2.4 in /usr/local/lib/python3.10/dist-packages (from sklearn_hierarchical_classification) (3.2.1)\n",
            "Requirement already satisfied: scikit-learn>=0.19.0 in /usr/local/lib/python3.10/dist-packages (from sklearn_hierarchical_classification) (1.2.2)\n",
            "Requirement already satisfied: scipy>=0.19.1 in /usr/local/lib/python3.10/dist-packages (from sklearn_hierarchical_classification) (1.11.4)\n",
            "Requirement already satisfied: aiosignal>=1.1.2 in /usr/local/lib/python3.10/dist-packages (from aiohttp<4.0.0,>=3.8.3->langchain) (1.3.1)\n",
            "Requirement already satisfied: attrs>=17.3.0 in /usr/local/lib/python3.10/dist-packages (from aiohttp<4.0.0,>=3.8.3->langchain) (23.2.0)\n",
            "Requirement already satisfied: frozenlist>=1.1.1 in /usr/local/lib/python3.10/dist-packages (from aiohttp<4.0.0,>=3.8.3->langchain) (1.4.1)\n",
            "Requirement already satisfied: multidict<7.0,>=4.5 in /usr/local/lib/python3.10/dist-packages (from aiohttp<4.0.0,>=3.8.3->langchain) (6.0.5)\n",
            "Requirement already satisfied: yarl<2.0,>=1.0 in /usr/local/lib/python3.10/dist-packages (from aiohttp<4.0.0,>=3.8.3->langchain) (1.9.4)\n",
            "Requirement already satisfied: idna>=2.8 in /usr/local/lib/python3.10/dist-packages (from anyio<5,>=3.5.0->openai) (3.6)\n",
            "Requirement already satisfied: exceptiongroup in /usr/local/lib/python3.10/dist-packages (from anyio<5,>=3.5.0->openai) (1.2.0)\n",
            "Requirement already satisfied: marshmallow<4.0.0,>=3.18.0 in /usr/local/lib/python3.10/dist-packages (from dataclasses-json<0.7,>=0.5.7->langchain) (3.20.2)\n",
            "Requirement already satisfied: typing-inspect<1,>=0.4.0 in /usr/local/lib/python3.10/dist-packages (from dataclasses-json<0.7,>=0.5.7->langchain) (0.9.0)\n",
            "Requirement already satisfied: certifi in /usr/local/lib/python3.10/dist-packages (from httpx<1,>=0.23.0->openai) (2024.2.2)\n",
            "Requirement already satisfied: httpcore==1.* in /usr/local/lib/python3.10/dist-packages (from httpx<1,>=0.23.0->openai) (1.0.4)\n",
            "Requirement already satisfied: h11<0.15,>=0.13 in /usr/local/lib/python3.10/dist-packages (from httpcore==1.*->httpx<1,>=0.23.0->openai) (0.14.0)\n",
            "Requirement already satisfied: jsonpointer>=1.9 in /usr/local/lib/python3.10/dist-packages (from jsonpatch<2.0,>=1.33->langchain) (2.4)\n",
            "Requirement already satisfied: packaging<24.0,>=23.2 in /usr/local/lib/python3.10/dist-packages (from langchain-core<0.2,>=0.1.26->langchain) (23.2)\n",
            "Requirement already satisfied: orjson<4.0.0,>=3.9.14 in /usr/local/lib/python3.10/dist-packages (from langsmith<0.2.0,>=0.1.0->langchain) (3.9.15)\n",
            "Requirement already satisfied: annotated-types>=0.4.0 in /usr/local/lib/python3.10/dist-packages (from pydantic<3,>=1.9.0->openai) (0.6.0)\n",
            "Requirement already satisfied: pydantic-core==2.16.2 in /usr/local/lib/python3.10/dist-packages (from pydantic<3,>=1.9.0->openai) (2.16.2)\n",
            "Requirement already satisfied: charset-normalizer<4,>=2 in /usr/local/lib/python3.10/dist-packages (from requests<3,>=2->langchain) (3.3.2)\n",
            "Requirement already satisfied: urllib3<3,>=1.21.1 in /usr/local/lib/python3.10/dist-packages (from requests<3,>=2->langchain) (2.0.7)\n",
            "Requirement already satisfied: joblib>=1.1.1 in /usr/local/lib/python3.10/dist-packages (from scikit-learn>=0.19.0->sklearn_hierarchical_classification) (1.3.2)\n",
            "Requirement already satisfied: threadpoolctl>=2.0.0 in /usr/local/lib/python3.10/dist-packages (from scikit-learn>=0.19.0->sklearn_hierarchical_classification) (3.3.0)\n",
            "Requirement already satisfied: greenlet!=0.4.17 in /usr/local/lib/python3.10/dist-packages (from SQLAlchemy<3,>=1.4->langchain) (3.0.3)\n",
            "Requirement already satisfied: mypy-extensions>=0.3.0 in /usr/local/lib/python3.10/dist-packages (from typing-inspect<1,>=0.4.0->dataclasses-json<0.7,>=0.5.7->langchain) (1.0.0)\n"
          ]
        }
      ]
    },
    {
      "cell_type": "code",
      "source": [
        "# Add OpenAI API key\n",
        "openai.api_key = \"YOUR_OPENAI_API_KEY\"\n",
        "\n",
        "\n",
        "# Chnage path to task data. It should be in the format <PATH_TO_DATA>/<SUBTASK>/<SPLIT>.json\n",
        "path_to_data = \"content/drive/Shareddrives/SemEval4/data\""
      ],
      "metadata": {
        "id": "O8KlmAEMv4YM"
      },
      "execution_count": null,
      "outputs": []
    },
    {
      "cell_type": "markdown",
      "source": [
        "## **Functions**"
      ],
      "metadata": {
        "id": "RAHLF7Nlv-lL"
      }
    },
    {
      "cell_type": "code",
      "source": [
        "def load_and_format_data(subtasks):\n",
        "    \"\"\"Loads and prepares data from Semeval4 dataset\"\"\"\n",
        "\n",
        "    data = []\n",
        "    data_dev = []\n",
        "\n",
        "    for subtask in subtasks:\n",
        "        for split in ['train', 'validation', 'dev_labeled_en']:\n",
        "\n",
        "            # change path to your data\n",
        "\n",
        "            file_path = f'/{path_to_data}/{subtask}/{split}.json'\n",
        "            with open(file_path, 'r') as f:\n",
        "                subset = json.loads(f.read())\n",
        "                for item in subset:\n",
        "                    item['subtask'] = subtask\n",
        "                    item['set'] = split\n",
        "                if split in ['train', 'validation']:\n",
        "                    data += subset\n",
        "                else:\n",
        "                    data_dev += subset\n",
        "\n",
        "    return data, data_dev"
      ],
      "metadata": {
        "id": "9PsCXS4awECX"
      },
      "execution_count": null,
      "outputs": []
    },
    {
      "cell_type": "code",
      "source": [
        "def create_jsonl_files(data, filename):\n",
        "    \"\"\"Creates JSONL files for fine-tuning.\"\"\"\n",
        "\n",
        "    with open(filename, 'w') as file:\n",
        "        for item in data:\n",
        "            prompt = {\n",
        "                \"messages\": [\n",
        "                    {\"role\": \"system\", \"content\": \"Identify the propaganda labels in the memes\"},\n",
        "                    {\"role\": \"user\", \"content\": item['text']},\n",
        "                    {\"role\": \"assistant\", \"content\": str(item['labels'])}\n",
        "                ]\n",
        "            }\n",
        "            json.dump(prompt, file)\n",
        "            file.write('\\n')"
      ],
      "metadata": {
        "id": "xnmDGtILwJ9N"
      },
      "execution_count": null,
      "outputs": []
    },
    {
      "cell_type": "code",
      "source": [
        "def predict_labels(text, fine_tuned_model_id):\n",
        "    \"\"\"Uses fine-tuned model for propaganda label prediction.\"\"\"\n",
        "\n",
        "    try:\n",
        "        response = openai.Completion.create(\n",
        "            model=fine_tuned_model_id,\n",
        "            temperature=0, # Keep temperature at 0!\n",
        "            messages=[\n",
        "                {\"role\": \"system\", \"content\": 'Identify the propaganda labels in the memes'},\n",
        "                {\"role\": \"user\", \"content\": text}\n",
        "            ]\n",
        "        )\n",
        "        return response.choices[0].message.content\n",
        "\n",
        "    except Exception as e:\n",
        "        print(f\"Error predicting labels for '{text}': {e}\")\n",
        "        return None"
      ],
      "metadata": {
        "id": "sl8xBu6ywUPi"
      },
      "execution_count": null,
      "outputs": []
    },
    {
      "cell_type": "code",
      "source": [
        "def predict_and_update_data(data, fine_tuned_model_id):\n",
        "    \"\"\"Predicts labels for development data and updates the data structure.\"\"\"\n",
        "\n",
        "    with ThreadPoolExecutor(max_workers=16) as executor:\n",
        "        futures = [executor.submit(predict_labels, item['text'], fine_tuned_model_id) for item in data]\n",
        "\n",
        "        for future, item in tqdm(zip(futures, data), total=len(data)):\n",
        "            labels = future.result()\n",
        "            if labels:\n",
        "                item['labels'] = labels[1:-1].replace(\"'\", '').split(',')\n",
        "                for i, label in enumerate(item['labels']):\n",
        "                    item['labels'][i] = label.strip()\n",
        "            else:\n",
        "                item['labels'] = []  # Handle cases where prediction fails"
      ],
      "metadata": {
        "id": "WyBizTzRwWvN"
      },
      "execution_count": null,
      "outputs": []
    },
    {
      "cell_type": "code",
      "source": [
        "def process_test_data(test_data_path, output_path, fine_tuned_model_id):\n",
        "    \"\"\"Loads test data, generates predictions, and saves results.\"\"\"\n",
        "\n",
        "    with open(test_data_path, 'r') as f:\n",
        "        test_data = json.loads(f.read())\n",
        "\n",
        "    # Use predict_and_update_data function to get predictions\n",
        "\n",
        "    with open(output_path, 'w') as f:\n",
        "        json.dump([{'id': x['id'], 'labels': x['labels']} for x in test_data], f, indent=4)"
      ],
      "metadata": {
        "id": "IHQUv8PXwjFx"
      },
      "execution_count": null,
      "outputs": []
    },
    {
      "cell_type": "markdown",
      "source": [
        "## **Implementation**"
      ],
      "metadata": {
        "id": "Rdelm_W2xPbo"
      }
    },
    {
      "cell_type": "markdown",
      "source": [
        "### Load the data"
      ],
      "metadata": {
        "id": "YcBBLuC4xU7F"
      }
    },
    {
      "cell_type": "code",
      "source": [
        "subtasks = ['subtask1', 'subtask2a', 'subtask2b']\n",
        "data, data_dev = load_and_format_data(subtasks)"
      ],
      "metadata": {
        "id": "5YSDlpVkxW2N"
      },
      "execution_count": null,
      "outputs": []
    },
    {
      "cell_type": "markdown",
      "source": [
        "### Format the data for fine-tuning on the OpenAI API"
      ],
      "metadata": {
        "id": "e-NuNw60xYAL"
      }
    },
    {
      "cell_type": "code",
      "source": [
        "create_jsonl_files(data, 'semeval4_1.jsonl')\n",
        "create_jsonl_files(data_dev, 'semeval4_1_dev.jsonl')"
      ],
      "metadata": {
        "id": "tDNqHh8pxXiR"
      },
      "execution_count": null,
      "outputs": []
    },
    {
      "cell_type": "markdown",
      "source": [
        "### Create fine-tuning jobs (this will charge your OpenAI Account!)"
      ],
      "metadata": {
        "id": "7g_yuerfxgbf"
      }
    },
    {
      "cell_type": "code",
      "source": [
        "with warnings.catch_warnings():  # Temporarily suppress potential warnings\n",
        "    warnings.simplefilter('ignore')\n",
        "\n",
        "    train_file = openai.File.create(file=open(\"semeval4_1.jsonl\", \"rb\"), purpose=\"fine-tune\")\n",
        "    valid_file = openai.File.create(file=open(\"semeval4_1_dev.jsonl\", \"rb\"), purpose=\"fine-tune\")\n",
        "\n",
        "    fine_tune_job = openai.FineTune.create(\n",
        "        training_file=train_file[\"id\"],\n",
        "        validation_file=valid_file[\"id\"],\n",
        "        model=\"ft:gpt-3.5-turbo-1106:nathannet:all-subtasks:8ljQqAmF\",  # Use a suitable model\n",
        "        suffix=\"sub1_noleakage\",\n",
        "        n_epochs=2\n",
        "    )"
      ],
      "metadata": {
        "id": "Ewsb2dyfxdOr"
      },
      "execution_count": null,
      "outputs": []
    },
    {
      "cell_type": "markdown",
      "source": [
        "### Predict using fine-tuned model"
      ],
      "metadata": {
        "id": "ZdEsQ5Jwxlfv"
      }
    },
    {
      "cell_type": "code",
      "source": [
        "predict_and_update_data(data, \"ft:gpt-3.5-turbo-1106:nathannet:sub1-noleakage:8ln2kucx\")\n",
        "\n",
        "# Save updated data\n",
        "with open('data.json.txt', 'w') as f:\n",
        "    json.dump([{'id': x['id'], 'labels': x['labels']} for x in data], f, indent=4)"
      ],
      "metadata": {
        "id": "eaHWrkirxktQ"
      },
      "execution_count": null,
      "outputs": []
    },
    {
      "cell_type": "markdown",
      "source": [
        "### Evaluate model performance on dev set"
      ],
      "metadata": {
        "id": "AehPuIHix6-T"
      }
    },
    {
      "cell_type": "code",
      "source": [
        "!python3 drive/Shareddrives/SemEval4/scorer-baseline/subtask_1_2a.py \\\n",
        "    --gold_file_path /content/drive/Shareddrives/SemEval4/data/subtask1/dev_labeled_en.json \\\n",
        "    --pred_file_path data.json.txt"
      ],
      "metadata": {
        "id": "XSFcA_zUyBII"
      },
      "execution_count": null,
      "outputs": []
    },
    {
      "cell_type": "markdown",
      "source": [
        "### Example Usage"
      ],
      "metadata": {
        "id": "DGDv5qzpyDYO"
      }
    },
    {
      "cell_type": "code",
      "source": [
        "process_test_data(\n",
        "    '/content/drive/Shareddrives/SemEval4/test_data/english/en_subtask1_test_unlabeled.json',\n",
        "    'engl_sub1_test.json.txt',\n",
        "    \"ft:gpt-3.5-turbo-1106:nathannet:sub1-noleakage:8ln2kucx\"  # Adjust model ID\n",
        ")\n",
        "\n",
        "process_test_data(\n",
        "    '/content/drive/Shareddrives/SemEval4/test_data/north_macedonian/mk_subtask1_test_unlabeled.json',\n",
        "    'nm_sub1_test.json.txt',\n",
        "    \"ft:gpt-3.5-turbo-1106:nathannet:sub1-noleakage:8ln2kucx\"  # Adjust model ID\n",
        ")"
      ],
      "metadata": {
        "id": "v5bhWMY-wktx"
      },
      "execution_count": null,
      "outputs": []
    }
  ]
}