{
  "nbformat": 4,
  "nbformat_minor": 0,
  "metadata": {
    "colab": {
      "provenance": [],
      "authorship_tag": "ABX9TyMkmw+vRHwjNazGcjPQYZa9",
      "include_colab_link": true
    },
    "kernelspec": {
      "name": "python3",
      "display_name": "Python 3"
    },
    "language_info": {
      "name": "python"
    }
  },
  "cells": [
    {
      "cell_type": "markdown",
      "metadata": {
        "id": "view-in-github",
        "colab_type": "text"
      },
      "source": [
        "<a href=\"https://colab.research.google.com/github/Nathan-Roll1/GreyBox/blob/main/Submission_GreyBox_SemEval_2024_Task_4.ipynb\" target=\"_parent\"><img src=\"https://colab.research.google.com/assets/colab-badge.svg\" alt=\"Open In Colab\"/></a>"
      ]
    },
    {
      "cell_type": "markdown",
      "source": [
        "# **Progressive Fine-tuning (for Multilingual Detection of Propaganda Techniques)**\n",
        "\n",
        "**By:** Nathan Roll & Calbert Graham\n",
        "\n",
        "[![GitHub Repo](https://img.shields.io/badge/GitHub-Nathan--Roll1%2FGreyBox-black?logo=github)](https://github.com/Nathan-Roll1/GreyBox)\n"
      ],
      "metadata": {
        "id": "Di_xDQ0QuvIq"
      }
    },
    {
      "cell_type": "markdown",
      "source": [
        "## **Initialization**"
      ],
      "metadata": {
        "id": "8V4BRGSkvlud"
      }
    },
    {
      "cell_type": "code",
      "source": [
        "# Installs\n",
        "!pip install --upgrade openai langchain sklearn_hierarchical_classification\n",
        "\n",
        "# Imports\n",
        "import openai\n",
        "import json\n",
        "from tqdm import tqdm\n",
        "import warnings  # For suppressing potential warnings\n",
        "\n",
        "from sklearn_hierarchical_classification import HierarchicalClassifier"
      ],
      "metadata": {
        "id": "xibLi_hzvvJJ"
      },
      "execution_count": null,
      "outputs": []
    },
    {
      "cell_type": "code",
      "source": [
        "# Add OpenAI API key\n",
        "openai.api_key = \"YOUR_OPENAI_API_KEY\""
      ],
      "metadata": {
        "id": "O8KlmAEMv4YM"
      },
      "execution_count": null,
      "outputs": []
    },
    {
      "cell_type": "markdown",
      "source": [
        "## **Functions**"
      ],
      "metadata": {
        "id": "RAHLF7Nlv-lL"
      }
    },
    {
      "cell_type": "code",
      "source": [
        "def load_and_format_data(subtasks):\n",
        "    \"\"\"Loads and prepares data from Semeval4 dataset\"\"\"\n",
        "\n",
        "    data = []\n",
        "    data_dev = []\n",
        "\n",
        "    for subtask in subtasks:\n",
        "        for split in ['train', 'validation', 'dev_labeled_en']:\n",
        "            file_path = f'/content/drive/Shareddrives/SemEval4/data/{subtask}/{split}.json'\n",
        "            with open(file_path, 'r') as f:\n",
        "                subset = json.loads(f.read())\n",
        "                for item in subset:\n",
        "                    item['subtask'] = subtask\n",
        "                    item['set'] = split\n",
        "                if split in ['train', 'validation']:\n",
        "                    data += subset\n",
        "                else:\n",
        "                    data_dev += subset\n",
        "\n",
        "    return data, data_dev"
      ],
      "metadata": {
        "id": "9PsCXS4awECX"
      },
      "execution_count": null,
      "outputs": []
    },
    {
      "cell_type": "code",
      "source": [
        "def create_jsonl_files(data, filename):\n",
        "    \"\"\"Creates JSONL files for fine-tuning.\"\"\"\n",
        "\n",
        "    with open(filename, 'w') as file:\n",
        "        for item in data:\n",
        "            prompt = {\n",
        "                \"messages\": [\n",
        "                    {\"role\": \"system\", \"content\": \"Identify the propaganda labels in the memes\"},\n",
        "                    {\"role\": \"user\", \"content\": item['text']},\n",
        "                    {\"role\": \"assistant\", \"content\": str(item['labels'])}\n",
        "                ]\n",
        "            }\n",
        "            json.dump(prompt, file)\n",
        "            file.write('\\n')"
      ],
      "metadata": {
        "id": "xnmDGtILwJ9N"
      },
      "execution_count": null,
      "outputs": []
    },
    {
      "cell_type": "code",
      "source": [
        "def predict_labels(text, fine_tuned_model_id):\n",
        "    \"\"\"Uses fine-tuned model for propaganda label prediction.\"\"\"\n",
        "\n",
        "    try:\n",
        "        response = openai.Completion.create(\n",
        "            model=fine_tuned_model_id,\n",
        "            temperature=0, # Keep temperature at 0!\n",
        "            messages=[\n",
        "                {\"role\": \"system\", \"content\": 'Identify the propaganda labels in the memes'},\n",
        "                {\"role\": \"user\", \"content\": text}\n",
        "            ]\n",
        "        )\n",
        "        return response.choices[0].message.content\n",
        "\n",
        "    except Exception as e:\n",
        "        print(f\"Error predicting labels for '{text}': {e}\")\n",
        "        return None"
      ],
      "metadata": {
        "id": "sl8xBu6ywUPi"
      },
      "execution_count": null,
      "outputs": []
    },
    {
      "cell_type": "code",
      "source": [
        "def predict_and_update_data(data, fine_tuned_model_id):\n",
        "    \"\"\"Predicts labels for development data and updates the data structure.\"\"\"\n",
        "\n",
        "    with ThreadPoolExecutor(max_workers=16) as executor:\n",
        "        futures = [executor.submit(predict_labels, item['text'], fine_tuned_model_id) for item in data]\n",
        "\n",
        "        for future, item in tqdm(zip(futures, data), total=len(data)):\n",
        "            labels = future.result()\n",
        "            if labels:\n",
        "                item['labels'] = labels[1:-1].replace(\"'\", '').split(',')\n",
        "                for i, label in enumerate(item['labels']):\n",
        "                    item['labels'][i] = label.strip()\n",
        "            else:\n",
        "                item['labels'] = []  # Handle cases where prediction fails"
      ],
      "metadata": {
        "id": "WyBizTzRwWvN"
      },
      "execution_count": null,
      "outputs": []
    },
    {
      "cell_type": "code",
      "source": [
        "def process_test_data(test_data_path, output_path, fine_tuned_model_id):\n",
        "    \"\"\"Loads test data, generates predictions, and saves results.\"\"\"\n",
        "\n",
        "    with open(test_data_path, 'r') as f:\n",
        "        test_data = json.loads(f.read())\n",
        "\n",
        "    # Use predict_and_update_data function to get predictions\n",
        "\n",
        "    with open(output_path, 'w') as f:\n",
        "        json.dump([{'id': x['id'], 'labels': x['labels']} for x in test_data], f, indent=4)"
      ],
      "metadata": {
        "id": "IHQUv8PXwjFx"
      },
      "execution_count": null,
      "outputs": []
    },
    {
      "cell_type": "markdown",
      "source": [
        "## **Implementation**"
      ],
      "metadata": {
        "id": "Rdelm_W2xPbo"
      }
    },
    {
      "cell_type": "markdown",
      "source": [
        "### Load the data"
      ],
      "metadata": {
        "id": "YcBBLuC4xU7F"
      }
    },
    {
      "cell_type": "code",
      "source": [
        "subtasks = ['subtask1', 'subtask2a', 'subtask2b']\n",
        "data, data_dev = load_and_format_data(subtasks)"
      ],
      "metadata": {
        "id": "5YSDlpVkxW2N"
      },
      "execution_count": null,
      "outputs": []
    },
    {
      "cell_type": "markdown",
      "source": [
        "### Format the data for fine-tuning on the OpenAI API"
      ],
      "metadata": {
        "id": "e-NuNw60xYAL"
      }
    },
    {
      "cell_type": "code",
      "source": [
        "create_jsonl_files(data, 'semeval4_1.jsonl')\n",
        "create_jsonl_files(data_dev, 'semeval4_1_dev.jsonl')"
      ],
      "metadata": {
        "id": "tDNqHh8pxXiR"
      },
      "execution_count": null,
      "outputs": []
    },
    {
      "cell_type": "markdown",
      "source": [
        "### Create fine-tuning jobs (this will charge your OpenAI Account!)"
      ],
      "metadata": {
        "id": "7g_yuerfxgbf"
      }
    },
    {
      "cell_type": "code",
      "source": [
        "with warnings.catch_warnings():  # Temporarily suppress potential warnings\n",
        "    warnings.simplefilter('ignore')\n",
        "\n",
        "    train_file = openai.File.create(file=open(\"semeval4_1.jsonl\", \"rb\"), purpose=\"fine-tune\")\n",
        "    valid_file = openai.File.create(file=open(\"semeval4_1_dev.jsonl\", \"rb\"), purpose=\"fine-tune\")\n",
        "\n",
        "    fine_tune_job = openai.FineTune.create(\n",
        "        training_file=train_file[\"id\"],\n",
        "        validation_file=valid_file[\"id\"],\n",
        "        model=\"ft:gpt-3.5-turbo-1106:nathannet:all-subtasks:8ljQqAmF\",  # Use a suitable model\n",
        "        suffix=\"sub1_noleakage\",\n",
        "        n_epochs=2\n",
        "    )"
      ],
      "metadata": {
        "id": "Ewsb2dyfxdOr"
      },
      "execution_count": null,
      "outputs": []
    },
    {
      "cell_type": "markdown",
      "source": [
        "### Predict using fine-tuned model"
      ],
      "metadata": {
        "id": "ZdEsQ5Jwxlfv"
      }
    },
    {
      "cell_type": "code",
      "source": [
        "predict_and_update_data(data_v, \"ft:gpt-3.5-turbo-1106:nathannet:sub1-noleakage:8ln2kucx\")\n",
        "\n",
        "# Save updated data\n",
        "with open('data_v.json.txt', 'w') as f:\n",
        "    json.dump([{'id': x['id'], 'labels': x['labels']} for x in data_v], f, indent=4)"
      ],
      "metadata": {
        "id": "eaHWrkirxktQ"
      },
      "execution_count": null,
      "outputs": []
    },
    {
      "cell_type": "markdown",
      "source": [
        "### Evaluate model performance on dev set"
      ],
      "metadata": {
        "id": "AehPuIHix6-T"
      }
    },
    {
      "cell_type": "code",
      "source": [
        "!python3 drive/Shareddrives/SemEval4/scorer-baseline/subtask_1_2a.py \\\n",
        "    --gold_file_path /content/drive/Shareddrives/SemEval4/data/subtask1/dev_labeled_en.json \\\n",
        "    --pred_file_path data_v.json.txt"
      ],
      "metadata": {
        "id": "XSFcA_zUyBII"
      },
      "execution_count": null,
      "outputs": []
    },
    {
      "cell_type": "markdown",
      "source": [
        "### Example Usage"
      ],
      "metadata": {
        "id": "DGDv5qzpyDYO"
      }
    },
    {
      "cell_type": "code",
      "source": [
        "process_test_data(\n",
        "    '/content/drive/Shareddrives/SemEval4/test_data/english/en_subtask1_test_unlabeled.json',\n",
        "    'engl_sub1_test.json.txt',\n",
        "    \"ft:gpt-3.5-turbo-1106:nathannet:sub1-noleakage:8ln2kucx\"  # Adjust model ID\n",
        ")\n",
        "\n",
        "process_test_data(\n",
        "    '/content/drive/Shareddrives/SemEval4/test_data/north_macedonian/mk_subtask1_test_unlabeled.json',\n",
        "    'nm_sub1_test.json.txt',\n",
        "    \"ft:gpt-3.5-turbo-1106:nathannet:sub1-noleakage:8ln2kucx\"  # Adjust model ID\n",
        ")"
      ],
      "metadata": {
        "id": "v5bhWMY-wktx"
      },
      "execution_count": null,
      "outputs": []
    }
  ]
}